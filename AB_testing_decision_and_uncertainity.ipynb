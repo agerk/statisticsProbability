{
 "cells": [
  {
   "cell_type": "code",
   "execution_count": 30,
   "metadata": {},
   "outputs": [],
   "source": [
    "import pandas as pd\n",
    "import numpy as np\n",
    "from datascience import *\n",
    "import matplotlib.pyplot as plt\n",
    "plots.style.use('fivethirtyeight')\n",
    "%matplotlib inline"
   ]
  },
  {
   "cell_type": "markdown",
   "metadata": {},
   "source": [
    "### Decision and uncetainity: decison making based on incomplete information\n",
    "\n",
    "Making decision based on sample- incomplete data\n",
    "- trying to choose two views of the world, based on data in a sample\n",
    "- its not always clear whether the data are consistent with one view or the other\n",
    "- random samples can turn out quite extreme. It's possible out conclusion might not be true. \n",
    "\n",
    "### Testing Hypotheses\n",
    "\n",
    "- a statistical test chooses between two views of how data were generated-- `hypotheses`\n",
    "- the test picks the `hypothesis` that is better supported by the observed data\n",
    "- steps:\n",
    "    - simulate data under one of the hypotheses\n",
    "    - compare the simulation results and the observed data\n",
    "    - pick one of the hypotheses, based on consistency of simulation results and observed data\n",
    "\n",
    "### Null and Alternative hypotheses\n",
    "\n",
    "The method only works if we can simulate data under one of the hypotheses\n",
    "\n",
    "Null hypothesis: The `Chance model`\n",
    "  - a well defined `chance` model about how the data were generated\n",
    "  - it say that the data were generated at random under clearly specified assumptions about randomness\n",
    "  - the `null` reinforces the idea that if the data look different from what the null hypothesis predicts, the difference is due to `nothing` but `chance`\n",
    "\n",
    "#### Alternative hypothesis\n",
    "\n",
    "   - a different view about the origin of the data\n",
    "   - it could be as simple as saying the null hypothesis is wrong\n",
    "    \n",
    "#### Test statistics:\n",
    " - the statistics that we choose to simulate under the null hypothesis, to decide between the two hypotheses\n",
    " - questions to ask before test statistic\n",
    "     - what value of the statistics will make us lean towatds the null hypothesis?\n",
    "     - what values will make uslean towards the alternative?\n",
    "\n",
    "#### Prediction undet the null hypothesis: \n",
    "\n",
    "   - simulate test statistivs under the null hypothesis, \n",
    "   - draw the histogrm simulated values -- this will give us the empirical distribution of the `statistic` under the null hypothesis\n",
    "   - it shows all the likely values of the statistic and how likely they are if the null hypothesis is true\n",
    "   \n",
    "#### Conclusion:\n",
    "   - Compare the observed test statistic and its empirical distribution under the null hpothesis.\n",
    "   - If the observed value is not consistent with the emperical distribution, then the test favors the alternative-- \"Rejects the null hypothesis\"\n",
    "    "
   ]
  },
  {
   "cell_type": "markdown",
   "metadata": {},
   "source": [
    "### Performing a Test \n",
    "The Problem: The GSI’s Defense\n",
    "\n",
    "A Berkeley Statistics class of about 350 students was divided into 12 discussion sections led by Graduate Student Instructors (GSIs). After the midterm, students in Section 3 noticed that their scores were on average lower than the rest of the class. In such situations, students tend to grumble about the section’s GSI. Surely, they feel, there must have been something wrong with the GSI’s teaching. Or else why would their section have done worse than others?\n",
    "\n",
    "**Null Hypothesis**. GSI's position: The average score of the students in Section 3 is like the average score of the same number of students picked at random from the class.\n",
    "\n",
    "**Alternative Hypothesis**. No, the averagew score is too low. Randomness is not the only reason for the low scores.\n"
   ]
  },
  {
   "cell_type": "code",
   "execution_count": 4,
   "metadata": {},
   "outputs": [
    {
     "data": {
      "text/html": [
       "<div>\n",
       "<style scoped>\n",
       "    .dataframe tbody tr th:only-of-type {\n",
       "        vertical-align: middle;\n",
       "    }\n",
       "\n",
       "    .dataframe tbody tr th {\n",
       "        vertical-align: top;\n",
       "    }\n",
       "\n",
       "    .dataframe thead th {\n",
       "        text-align: right;\n",
       "    }\n",
       "</style>\n",
       "<table border=\"1\" class=\"dataframe\">\n",
       "  <thead>\n",
       "    <tr style=\"text-align: right;\">\n",
       "      <th></th>\n",
       "      <th>Section</th>\n",
       "      <th>Midterm</th>\n",
       "    </tr>\n",
       "  </thead>\n",
       "  <tbody>\n",
       "    <tr>\n",
       "      <th>0</th>\n",
       "      <td>1</td>\n",
       "      <td>22</td>\n",
       "    </tr>\n",
       "    <tr>\n",
       "      <th>1</th>\n",
       "      <td>2</td>\n",
       "      <td>12</td>\n",
       "    </tr>\n",
       "    <tr>\n",
       "      <th>2</th>\n",
       "      <td>2</td>\n",
       "      <td>23</td>\n",
       "    </tr>\n",
       "    <tr>\n",
       "      <th>3</th>\n",
       "      <td>2</td>\n",
       "      <td>14</td>\n",
       "    </tr>\n",
       "    <tr>\n",
       "      <th>4</th>\n",
       "      <td>1</td>\n",
       "      <td>20</td>\n",
       "    </tr>\n",
       "  </tbody>\n",
       "</table>\n",
       "</div>"
      ],
      "text/plain": [
       "   Section  Midterm\n",
       "0        1       22\n",
       "1        2       12\n",
       "2        2       23\n",
       "3        2       14\n",
       "4        1       20"
      ]
     },
     "execution_count": 4,
     "metadata": {},
     "output_type": "execute_result"
    }
   ],
   "source": [
    "# Load data\n",
    "\n",
    "scores = pd.read_csv('scores_by_section.csv')\n",
    "scores.head()"
   ]
  },
  {
   "cell_type": "code",
   "execution_count": 7,
   "metadata": {},
   "outputs": [
    {
     "data": {
      "text/html": [
       "<div>\n",
       "<style scoped>\n",
       "    .dataframe tbody tr th:only-of-type {\n",
       "        vertical-align: middle;\n",
       "    }\n",
       "\n",
       "    .dataframe tbody tr th {\n",
       "        vertical-align: top;\n",
       "    }\n",
       "\n",
       "    .dataframe thead th {\n",
       "        text-align: right;\n",
       "    }\n",
       "</style>\n",
       "<table border=\"1\" class=\"dataframe\">\n",
       "  <thead>\n",
       "    <tr style=\"text-align: right;\">\n",
       "      <th></th>\n",
       "      <th>Midterm</th>\n",
       "    </tr>\n",
       "    <tr>\n",
       "      <th>Section</th>\n",
       "      <th></th>\n",
       "    </tr>\n",
       "  </thead>\n",
       "  <tbody>\n",
       "    <tr>\n",
       "      <th>1</th>\n",
       "      <td>32</td>\n",
       "    </tr>\n",
       "    <tr>\n",
       "      <th>2</th>\n",
       "      <td>32</td>\n",
       "    </tr>\n",
       "    <tr>\n",
       "      <th>3</th>\n",
       "      <td>27</td>\n",
       "    </tr>\n",
       "    <tr>\n",
       "      <th>4</th>\n",
       "      <td>30</td>\n",
       "    </tr>\n",
       "    <tr>\n",
       "      <th>5</th>\n",
       "      <td>33</td>\n",
       "    </tr>\n",
       "    <tr>\n",
       "      <th>6</th>\n",
       "      <td>32</td>\n",
       "    </tr>\n",
       "    <tr>\n",
       "      <th>7</th>\n",
       "      <td>24</td>\n",
       "    </tr>\n",
       "    <tr>\n",
       "      <th>8</th>\n",
       "      <td>29</td>\n",
       "    </tr>\n",
       "    <tr>\n",
       "      <th>9</th>\n",
       "      <td>30</td>\n",
       "    </tr>\n",
       "    <tr>\n",
       "      <th>10</th>\n",
       "      <td>34</td>\n",
       "    </tr>\n",
       "    <tr>\n",
       "      <th>11</th>\n",
       "      <td>26</td>\n",
       "    </tr>\n",
       "    <tr>\n",
       "      <th>12</th>\n",
       "      <td>30</td>\n",
       "    </tr>\n",
       "  </tbody>\n",
       "</table>\n",
       "</div>"
      ],
      "text/plain": [
       "         Midterm\n",
       "Section         \n",
       "1             32\n",
       "2             32\n",
       "3             27\n",
       "4             30\n",
       "5             33\n",
       "6             32\n",
       "7             24\n",
       "8             29\n",
       "9             30\n",
       "10            34\n",
       "11            26\n",
       "12            30"
      ]
     },
     "execution_count": 7,
     "metadata": {},
     "output_type": "execute_result"
    }
   ],
   "source": [
    "# Score by section\n",
    "scores.groupby('Section').count()"
   ]
  },
  {
   "cell_type": "code",
   "execution_count": 8,
   "metadata": {},
   "outputs": [
    {
     "data": {
      "text/html": [
       "<div>\n",
       "<style scoped>\n",
       "    .dataframe tbody tr th:only-of-type {\n",
       "        vertical-align: middle;\n",
       "    }\n",
       "\n",
       "    .dataframe tbody tr th {\n",
       "        vertical-align: top;\n",
       "    }\n",
       "\n",
       "    .dataframe thead th {\n",
       "        text-align: right;\n",
       "    }\n",
       "</style>\n",
       "<table border=\"1\" class=\"dataframe\">\n",
       "  <thead>\n",
       "    <tr style=\"text-align: right;\">\n",
       "      <th></th>\n",
       "      <th>Midterm</th>\n",
       "    </tr>\n",
       "    <tr>\n",
       "      <th>Section</th>\n",
       "      <th></th>\n",
       "    </tr>\n",
       "  </thead>\n",
       "  <tbody>\n",
       "    <tr>\n",
       "      <th>1</th>\n",
       "      <td>15.593750</td>\n",
       "    </tr>\n",
       "    <tr>\n",
       "      <th>2</th>\n",
       "      <td>15.125000</td>\n",
       "    </tr>\n",
       "    <tr>\n",
       "      <th>3</th>\n",
       "      <td>13.666667</td>\n",
       "    </tr>\n",
       "    <tr>\n",
       "      <th>4</th>\n",
       "      <td>14.766667</td>\n",
       "    </tr>\n",
       "    <tr>\n",
       "      <th>5</th>\n",
       "      <td>17.454545</td>\n",
       "    </tr>\n",
       "    <tr>\n",
       "      <th>6</th>\n",
       "      <td>15.031250</td>\n",
       "    </tr>\n",
       "    <tr>\n",
       "      <th>7</th>\n",
       "      <td>16.625000</td>\n",
       "    </tr>\n",
       "    <tr>\n",
       "      <th>8</th>\n",
       "      <td>16.310345</td>\n",
       "    </tr>\n",
       "    <tr>\n",
       "      <th>9</th>\n",
       "      <td>14.566667</td>\n",
       "    </tr>\n",
       "    <tr>\n",
       "      <th>10</th>\n",
       "      <td>15.235294</td>\n",
       "    </tr>\n",
       "    <tr>\n",
       "      <th>11</th>\n",
       "      <td>15.807692</td>\n",
       "    </tr>\n",
       "    <tr>\n",
       "      <th>12</th>\n",
       "      <td>15.733333</td>\n",
       "    </tr>\n",
       "  </tbody>\n",
       "</table>\n",
       "</div>"
      ],
      "text/plain": [
       "           Midterm\n",
       "Section           \n",
       "1        15.593750\n",
       "2        15.125000\n",
       "3        13.666667\n",
       "4        14.766667\n",
       "5        17.454545\n",
       "6        15.031250\n",
       "7        16.625000\n",
       "8        16.310345\n",
       "9        14.566667\n",
       "10       15.235294\n",
       "11       15.807692\n",
       "12       15.733333"
      ]
     },
     "execution_count": 8,
     "metadata": {},
     "output_type": "execute_result"
    }
   ],
   "source": [
    "# Average score by ssection\n",
    "scores.groupby('Section').mean()"
   ]
  },
  {
   "cell_type": "code",
   "execution_count": 38,
   "metadata": {},
   "outputs": [
    {
     "name": "stdout",
     "output_type": "stream",
     "text": [
      "Is observed_average > randomly sampled?  False\n"
     ]
    }
   ],
   "source": [
    "# Null: The sectio 3 average is like the average of 27 random scores from the class.\n",
    "# Alternative: No, its too low.\n",
    "\n",
    "# The statistics is average value. Low average value favor the 'Alternative view'\n",
    "observed_average = 13.666667\n",
    "# Averaeg midterm from random sampling\n",
    "random_average = scores.Midterm.sample(27).mean() \n",
    "print(\"Is observed_average > randomly sampled? \",observed_average > random_average)"
   ]
  },
  {
   "cell_type": "code",
   "execution_count": 27,
   "metadata": {},
   "outputs": [],
   "source": [
    "# Let's simulate sample averages under the Null hypothesis\n",
    "\n",
    "averages = []\n",
    "repetitions = 50000\n",
    "\n",
    "for i in np.arange(repetitions):\n",
    "    new_avg = np.average(scores.Midterm.sample(27))\n",
    "    averages.append(new_avg)"
   ]
  },
  {
   "cell_type": "code",
   "execution_count": 31,
   "metadata": {},
   "outputs": [
    {
     "data": {
      "image/png": "[encoded data removed]",
      "text/plain": [
       "<matplotlib.figure.Figure at 0x116895438>"
      ]
     },
     "metadata": {},
     "output_type": "display_data"
    }
   ],
   "source": [
    "# Visualize using \n",
    "pd.DataFrame(averages, \n",
    "             columns=['Random Sample Average']).hist(\n",
    "    bins=25,\n",
    "    edgecolor='white', \n",
    "    alpha=0.65,normed=True)\n",
    "plt.scatter(observed_average, 0, color='red', s=30)\n",
    "plt.show()\n"
   ]
  },
  {
   "cell_type": "code",
   "execution_count": 37,
   "metadata": {},
   "outputs": [
    {
     "name": "stdout",
     "output_type": "stream",
     "text": [
      "Proportion of simulated midterm average below observed 5.652%\n"
     ]
    }
   ],
   "source": [
    "# Compute areas of the hist below the ovserved_average or \n",
    "# the proportio of the data represented within the tail area\n",
    "print(\"Proportion of simulated midterm average below observed {}%\".format(\n",
    "    np.count_nonzero(np.array(averages) <= observed_average)*100 / repetitions))"
   ]
  },
  {
   "cell_type": "markdown",
   "metadata": {},
   "source": [
    "**Conclusion**: Following the convention (p_value=5%), 5.657% > 5% and statisticcally significant. And it favours the Null hypothesis-- the data is seems from randomness "
   ]
  },
  {
   "cell_type": "markdown",
   "metadata": {},
   "source": [
    "### A/B Testing\n",
    "\n",
    "- Deciding whether two numerical samples, sample A and B, come from the same underlying distribution is called A/B testing. "
   ]
  },
  {
   "cell_type": "markdown",
   "metadata": {},
   "source": [
    "**Smokers and Nonsmokers**\n",
    "\n",
    "Objective of the study: One of the aims of the study was to see whether maternal smoking was associated with birth weight. Let’s see what we can say about the two variables"
   ]
  },
  {
   "cell_type": "code",
   "execution_count": 39,
   "metadata": {},
   "outputs": [
    {
     "data": {
      "text/html": [
       "<div>\n",
       "<style scoped>\n",
       "    .dataframe tbody tr th:only-of-type {\n",
       "        vertical-align: middle;\n",
       "    }\n",
       "\n",
       "    .dataframe tbody tr th {\n",
       "        vertical-align: top;\n",
       "    }\n",
       "\n",
       "    .dataframe thead th {\n",
       "        text-align: right;\n",
       "    }\n",
       "</style>\n",
       "<table border=\"1\" class=\"dataframe\">\n",
       "  <thead>\n",
       "    <tr style=\"text-align: right;\">\n",
       "      <th></th>\n",
       "      <th>Birth Weight</th>\n",
       "      <th>Gestational Days</th>\n",
       "      <th>Maternal Age</th>\n",
       "      <th>Maternal Height</th>\n",
       "      <th>Maternal Pregnancy Weight</th>\n",
       "      <th>Maternal Smoker</th>\n",
       "    </tr>\n",
       "  </thead>\n",
       "  <tbody>\n",
       "    <tr>\n",
       "      <th>0</th>\n",
       "      <td>120</td>\n",
       "      <td>284</td>\n",
       "      <td>27</td>\n",
       "      <td>62</td>\n",
       "      <td>100</td>\n",
       "      <td>False</td>\n",
       "    </tr>\n",
       "    <tr>\n",
       "      <th>1</th>\n",
       "      <td>113</td>\n",
       "      <td>282</td>\n",
       "      <td>33</td>\n",
       "      <td>64</td>\n",
       "      <td>135</td>\n",
       "      <td>False</td>\n",
       "    </tr>\n",
       "    <tr>\n",
       "      <th>2</th>\n",
       "      <td>128</td>\n",
       "      <td>279</td>\n",
       "      <td>28</td>\n",
       "      <td>64</td>\n",
       "      <td>115</td>\n",
       "      <td>True</td>\n",
       "    </tr>\n",
       "    <tr>\n",
       "      <th>3</th>\n",
       "      <td>108</td>\n",
       "      <td>282</td>\n",
       "      <td>23</td>\n",
       "      <td>67</td>\n",
       "      <td>125</td>\n",
       "      <td>True</td>\n",
       "    </tr>\n",
       "    <tr>\n",
       "      <th>4</th>\n",
       "      <td>136</td>\n",
       "      <td>286</td>\n",
       "      <td>25</td>\n",
       "      <td>62</td>\n",
       "      <td>93</td>\n",
       "      <td>False</td>\n",
       "    </tr>\n",
       "  </tbody>\n",
       "</table>\n",
       "</div>"
      ],
      "text/plain": [
       "   Birth Weight  Gestational Days  Maternal Age  Maternal Height  \\\n",
       "0           120               284            27               62   \n",
       "1           113               282            33               64   \n",
       "2           128               279            28               64   \n",
       "3           108               282            23               67   \n",
       "4           136               286            25               62   \n",
       "\n",
       "   Maternal Pregnancy Weight  Maternal Smoker  \n",
       "0                        100            False  \n",
       "1                        135            False  \n",
       "2                        115             True  \n",
       "3                        125             True  \n",
       "4                         93            False  "
      ]
     },
     "execution_count": 39,
     "metadata": {},
     "output_type": "execute_result"
    }
   ],
   "source": [
    "# Load data for A/B testing\n",
    "\n",
    "baby = pd.read_csv('baby.csv')\n",
    "baby.head()"
   ]
  },
  {
   "cell_type": "code",
   "execution_count": 47,
   "metadata": {},
   "outputs": [
    {
     "data": {
      "text/html": [
       "<div>\n",
       "<style scoped>\n",
       "    .dataframe tbody tr th:only-of-type {\n",
       "        vertical-align: middle;\n",
       "    }\n",
       "\n",
       "    .dataframe tbody tr th {\n",
       "        vertical-align: top;\n",
       "    }\n",
       "\n",
       "    .dataframe thead th {\n",
       "        text-align: right;\n",
       "    }\n",
       "</style>\n",
       "<table border=\"1\" class=\"dataframe\">\n",
       "  <thead>\n",
       "    <tr style=\"text-align: right;\">\n",
       "      <th></th>\n",
       "      <th>Birth Weight</th>\n",
       "    </tr>\n",
       "    <tr>\n",
       "      <th>Maternal Smoker</th>\n",
       "      <th></th>\n",
       "    </tr>\n",
       "  </thead>\n",
       "  <tbody>\n",
       "    <tr>\n",
       "      <th>False</th>\n",
       "      <td>715</td>\n",
       "    </tr>\n",
       "    <tr>\n",
       "      <th>True</th>\n",
       "      <td>459</td>\n",
       "    </tr>\n",
       "  </tbody>\n",
       "</table>\n",
       "</div>"
      ],
      "text/plain": [
       "                 Birth Weight\n",
       "Maternal Smoker              \n",
       "False                     715\n",
       "True                      459"
      ]
     },
     "execution_count": 47,
     "metadata": {},
     "output_type": "execute_result"
    }
   ],
   "source": [
    "# Create smoker and non-smoker table\n",
    "smoking_and_birthweight = baby[['Maternal Smoker', 'Birth Weight']]\n",
    "smoking_and_birthweight.groupby('Maternal Smoker').count()"
   ]
  },
  {
   "cell_type": "code",
   "execution_count": 80,
   "metadata": {},
   "outputs": [
    {
     "data": {
      "image/png": "[encoded data removed]",
      "text/plain": [
       "<matplotlib.figure.Figure at 0x11869a898>"
      ]
     },
     "metadata": {},
     "output_type": "display_data"
    }
   ],
   "source": [
    "# Distribution of birth weight\n",
    "non_smoker = smoking_and_birthweight[smoking_and_birthweight['Maternal Smoker'] == False]\n",
    "smoker = smoking_and_birthweight[smoking_and_birthweight['Maternal Smoker'] == True]\n",
    "\n",
    "non_smoker['Birth Weight'].hist(edgecolor='white', alpha=0.65,normed=True)\n",
    "smoker['Birth Weight'].hist(edgecolor='white', alpha=0.65,normed=True)\n",
    "# plt.legend()\n",
    "plt.show()"
   ]
  },
  {
   "cell_type": "code",
   "execution_count": 100,
   "metadata": {},
   "outputs": [
    {
     "name": "stdout",
     "output_type": "stream",
     "text": [
      "Could this difference be by chance or could it be reflected in the population ? 9.266142572024918\n"
     ]
    }
   ],
   "source": [
    "# Comparing average birth weight\n",
    "means = smoking_and_birthweight.groupby('Maternal Smoker', \n",
    "                                        as_index=False).mean()['Birth Weight']\n",
    "observed_diff = means.loc[0]-means.loc[1]\n",
    "print(\"Could this difference be by chance or could it be reflected in the population ?\",\n",
    "      observed_diff)"
   ]
  },
  {
   "cell_type": "markdown",
   "metadata": {},
   "source": [
    "### Hypotheses and Statistic\n",
    "\n",
    "Random sample of mothers of newborns. Compare\n",
    "   - (A) Birth weights of babies of whose mothers smoked during preganancy\n",
    "   - (B) Birth weights of babies whose mothers didn't smoked during preganancy\n",
    "**Question**: Could the difference be due to chance alone?\n",
    "\n",
    "**Null**:\n",
    "   - In the population, the distributions of the birth weights of the babies in the two groups are the same, i.e., the difference is due to chace!\n",
    "\n",
    "**Alternative**:\n",
    "   - In the population, the babies of the mothers who didn't smoke were heavier, on average, than the babies of the smokers\n",
    "\n",
    "*Statistic*: Difference between average weights: Group_B - Group_A averages\n",
    "- Large values of this statistics favor the alternative"
   ]
  },
  {
   "cell_type": "markdown",
   "metadata": {},
   "source": [
    "### Simulating under the Null\n",
    "\n",
    "- It depends on the idea that if the `Null` is true, then the two distributions of both weights are exactly the same, so it doesn't matter which birth weight is labeled `smoker` and which is labeled as `non-smoker`.\n",
    "- So if we take all birth weights (1,174), each one labled as `smoker` or `non-smoker`, we could randomly shuffle the labels, and we could get the same distribution of the two groups.\n",
    "\n",
    "Steps to get simulated test statistics under the null hypothesis:\n",
    "\n",
    "1. Shuffle all the birth weights\n",
    "2. Assign some to `Group A` and the rest to `Group B`, maintaining the two sample sizes\n",
    "3. Find the difference between the averages of the two shuffles groups\n",
    "4. Repeat 1) to 3)"
   ]
  },
  {
   "cell_type": "code",
   "execution_count": 201,
   "metadata": {},
   "outputs": [
    {
     "data": {
      "text/html": [
       "<div>\n",
       "<style scoped>\n",
       "    .dataframe tbody tr th:only-of-type {\n",
       "        vertical-align: middle;\n",
       "    }\n",
       "\n",
       "    .dataframe tbody tr th {\n",
       "        vertical-align: top;\n",
       "    }\n",
       "\n",
       "    .dataframe thead th {\n",
       "        text-align: right;\n",
       "    }\n",
       "</style>\n",
       "<table border=\"1\" class=\"dataframe\">\n",
       "  <thead>\n",
       "    <tr style=\"text-align: right;\">\n",
       "      <th></th>\n",
       "      <th>maternal_smoker</th>\n",
       "      <th>birth_weight</th>\n",
       "      <th>shuffled_weights</th>\n",
       "    </tr>\n",
       "  </thead>\n",
       "  <tbody>\n",
       "    <tr>\n",
       "      <th>0</th>\n",
       "      <td>False</td>\n",
       "      <td>120</td>\n",
       "      <td>140</td>\n",
       "    </tr>\n",
       "    <tr>\n",
       "      <th>1</th>\n",
       "      <td>False</td>\n",
       "      <td>113</td>\n",
       "      <td>120</td>\n",
       "    </tr>\n",
       "    <tr>\n",
       "      <th>2</th>\n",
       "      <td>True</td>\n",
       "      <td>128</td>\n",
       "      <td>158</td>\n",
       "    </tr>\n",
       "    <tr>\n",
       "      <th>3</th>\n",
       "      <td>True</td>\n",
       "      <td>108</td>\n",
       "      <td>110</td>\n",
       "    </tr>\n",
       "    <tr>\n",
       "      <th>4</th>\n",
       "      <td>False</td>\n",
       "      <td>136</td>\n",
       "      <td>135</td>\n",
       "    </tr>\n",
       "  </tbody>\n",
       "</table>\n",
       "</div>"
      ],
      "text/plain": [
       "   maternal_smoker  birth_weight  shuffled_weights\n",
       "0            False           120               140\n",
       "1            False           113               120\n",
       "2             True           128               158\n",
       "3             True           108               110\n",
       "4            False           136               135"
      ]
     },
     "execution_count": 201,
     "metadata": {},
     "output_type": "execute_result"
    }
   ],
   "source": [
    "import random\n",
    "# Get weight col for shuffling\n",
    "original_shuffled_weights = baby[['Maternal Smoker', 'Birth Weight']]\n",
    "# columns = ['Maternal_Smoker', 'Birth_Weight']\n",
    "\n",
    "original_shuffled_weights = original_shuffled_weights.rename(columns={'Maternal Smoker':'maternal_smoker', \n",
    "                        'Birth Weight':'birth_weight' })\n",
    "# Sample at random without replacement\n",
    "original_shuffled_weights['shuffled_weights'] = random.sample(list(original_shuffled_weights['birth_weight']), \n",
    "                                            len(original_shuffled_weights['birth_weight']))\n",
    "original_shuffled_weights.head()\n",
    "        "
   ]
  },
  {
   "cell_type": "code",
   "execution_count": 205,
   "metadata": {},
   "outputs": [
    {
     "data": {
      "text/html": [
       "<div>\n",
       "<style scoped>\n",
       "    .dataframe tbody tr th:only-of-type {\n",
       "        vertical-align: middle;\n",
       "    }\n",
       "\n",
       "    .dataframe tbody tr th {\n",
       "        vertical-align: top;\n",
       "    }\n",
       "\n",
       "    .dataframe thead th {\n",
       "        text-align: right;\n",
       "    }\n",
       "</style>\n",
       "<table border=\"1\" class=\"dataframe\">\n",
       "  <thead>\n",
       "    <tr style=\"text-align: right;\">\n",
       "      <th></th>\n",
       "      <th>maternal_smoker</th>\n",
       "      <th>birth_weight</th>\n",
       "      <th>shuffled_weights</th>\n",
       "    </tr>\n",
       "  </thead>\n",
       "  <tbody>\n",
       "    <tr>\n",
       "      <th>0</th>\n",
       "      <td>False</td>\n",
       "      <td>123.085315</td>\n",
       "      <td>119.155245</td>\n",
       "    </tr>\n",
       "    <tr>\n",
       "      <th>1</th>\n",
       "      <td>True</td>\n",
       "      <td>113.819172</td>\n",
       "      <td>119.941176</td>\n",
       "    </tr>\n",
       "  </tbody>\n",
       "</table>\n",
       "</div>"
      ],
      "text/plain": [
       "   maternal_smoker  birth_weight  shuffled_weights\n",
       "0            False    123.085315        119.155245\n",
       "1             True    113.819172        119.941176"
      ]
     },
     "execution_count": 205,
     "metadata": {},
     "output_type": "execute_result"
    }
   ],
   "source": [
    "# get average weight\n",
    "# group by maternal smoker\n",
    "means = original_shuffled_weights.groupby(by='maternal_smoker', as_index=False).mean()\n",
    "# difference between means of the two groups from the shuffled_weights\n",
    "means.shuffled_weights[0]- means.shuffled_weights[1]"
   ]
  },
  {
   "cell_type": "code",
   "execution_count": 214,
   "metadata": {},
   "outputs": [
    {
     "data": {
      "image/png": "[encoded data removed]",
      "text/plain": [
       "<matplotlib.figure.Figure at 0x117f28ba8>"
      ]
     },
     "metadata": {},
     "output_type": "display_data"
    }
   ],
   "source": [
    "# Simulate Null Hypothesis \n",
    "\n",
    "diff = []\n",
    "\n",
    "for i in np.arange(5000):\n",
    "    # Get weight col for shuffling\n",
    "    original_shuffled_weights = baby[['Maternal Smoker', 'Birth Weight']]\n",
    "    # columns = ['Maternal_Smoker', 'Birth_Weight']\n",
    "\n",
    "    original_shuffled_weights = original_shuffled_weights.rename(columns={'Maternal Smoker':'maternal_smoker', \n",
    "                            'Birth Weight':'birth_weight' })\n",
    "    # Sample at random without replacement\n",
    "    original_shuffled_weights['shuffled_weights'] = random.sample(list(original_shuffled_weights['birth_weight']), \n",
    "                                            len(original_shuffled_weights['birth_weight']))\n",
    "\n",
    "    # table with shuffled weight\n",
    "    shuffle_tbl = original_shuffled_weights\n",
    "    # array of means of the two groups\n",
    "    means = shuffle_tbl.groupby(by='maternal_smoker', as_index=False).mean()\n",
    "    # difference between means of the two group \n",
    "    new_diff = means.shuffled_weights[0]- means.shuffled_weights[1]\n",
    "    # update diff\n",
    "    diff.append(new_diff)\n",
    "\n",
    "# Visualize using \n",
    "pd.DataFrame(diff, \n",
    "             columns=['Difference Between Means of Shuffled Weight']).hist(\n",
    "    bins=20,\n",
    "    edgecolor='white', \n",
    "    alpha=0.65,normed=True)\n",
    "plt.scatter(observed_diff, 0, color='red', s=30)\n",
    "plt.show()\n"
   ]
  },
  {
   "cell_type": "markdown",
   "metadata": {},
   "source": [
    "**Conclusion**: The histogram above shows the distribution of these 5,000 values. It is the empirical distribution of the test statistic simulated under the null hypothesis. It is a prediction made by the null hypothesis, about the statistic.\n"
   ]
  },
  {
   "cell_type": "markdown",
   "metadata": {},
   "source": [
    "*Note: This notebook is based on the Berkeley's Data Science course on EdX. More reference can be found [here](https://www.inferentialthinking.com/)*"
   ]
  }
 ],
 "metadata": {
  "kernelspec": {
   "display_name": "Python 3",
   "language": "python",
   "name": "python3"
  },
  "language_info": {
   "codemirror_mode": {
    "name": "ipython",
    "version": 3
   },
   "file_extension": ".py",
   "mimetype": "text/x-python",
   "name": "python",
   "nbconvert_exporter": "python",
   "pygments_lexer": "ipython3",
   "version": "3.6.3"
  }
 },
 "nbformat": 4,
 "nbformat_minor": 2
}
